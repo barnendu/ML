{
 "cells": [
  {
   "cell_type": "code",
   "execution_count": null,
   "metadata": {},
   "outputs": [
    {
     "name": "stdout",
     "output_type": "stream",
     "text": [
      "Requirement already satisfied: torch in /Library/Frameworks/Python.framework/Versions/3.12/lib/python3.12/site-packages (2.5.1)\n",
      "Requirement already satisfied: filelock in /Library/Frameworks/Python.framework/Versions/3.12/lib/python3.12/site-packages (from torch) (3.13.1)\n",
      "Requirement already satisfied: typing-extensions>=4.8.0 in /Library/Frameworks/Python.framework/Versions/3.12/lib/python3.12/site-packages (from torch) (4.12.2)\n",
      "Requirement already satisfied: networkx in /Library/Frameworks/Python.framework/Versions/3.12/lib/python3.12/site-packages (from torch) (3.4.2)\n",
      "Requirement already satisfied: jinja2 in /Library/Frameworks/Python.framework/Versions/3.12/lib/python3.12/site-packages (from torch) (3.1.4)\n",
      "Requirement already satisfied: fsspec in /Library/Frameworks/Python.framework/Versions/3.12/lib/python3.12/site-packages (from torch) (2024.5.0)\n",
      "Requirement already satisfied: setuptools in /Library/Frameworks/Python.framework/Versions/3.12/lib/python3.12/site-packages (from torch) (71.1.0)\n",
      "Requirement already satisfied: sympy==1.13.1 in /Library/Frameworks/Python.framework/Versions/3.12/lib/python3.12/site-packages (from torch) (1.13.1)\n",
      "Requirement already satisfied: mpmath<1.4,>=1.1.0 in /Library/Frameworks/Python.framework/Versions/3.12/lib/python3.12/site-packages (from sympy==1.13.1->torch) (1.3.0)\n",
      "Requirement already satisfied: MarkupSafe>=2.0 in /Library/Frameworks/Python.framework/Versions/3.12/lib/python3.12/site-packages (from jinja2->torch) (2.1.5)\n",
      "\n",
      "\u001b[1m[\u001b[0m\u001b[34;49mnotice\u001b[0m\u001b[1;39;49m]\u001b[0m\u001b[39;49m A new release of pip is available: \u001b[0m\u001b[31;49m24.2\u001b[0m\u001b[39;49m -> \u001b[0m\u001b[32;49m24.3.1\u001b[0m\n",
      "\u001b[1m[\u001b[0m\u001b[34;49mnotice\u001b[0m\u001b[1;39;49m]\u001b[0m\u001b[39;49m To update, run: \u001b[0m\u001b[32;49mpip install --upgrade pip\u001b[0m\n",
      "Note: you may need to restart the kernel to use updated packages.\n",
      "Collecting matplotlib\n",
      "  Using cached matplotlib-3.9.2-cp312-cp312-macosx_11_0_arm64.whl.metadata (11 kB)\n",
      "Collecting contourpy>=1.0.1 (from matplotlib)\n",
      "  Using cached contourpy-1.3.0-cp312-cp312-macosx_11_0_arm64.whl.metadata (5.4 kB)\n",
      "Collecting cycler>=0.10 (from matplotlib)\n",
      "  Using cached cycler-0.12.1-py3-none-any.whl.metadata (3.8 kB)\n",
      "Collecting fonttools>=4.22.0 (from matplotlib)\n",
      "  Downloading fonttools-4.54.1-cp312-cp312-macosx_11_0_arm64.whl.metadata (163 kB)\n",
      "Collecting kiwisolver>=1.3.1 (from matplotlib)\n",
      "  Using cached kiwisolver-1.4.7-cp312-cp312-macosx_11_0_arm64.whl.metadata (6.3 kB)\n",
      "Requirement already satisfied: numpy>=1.23 in /Library/Frameworks/Python.framework/Versions/3.12/lib/python3.12/site-packages (from matplotlib) (1.26.4)\n",
      "Requirement already satisfied: packaging>=20.0 in /Library/Frameworks/Python.framework/Versions/3.12/lib/python3.12/site-packages (from matplotlib) (24.1)\n",
      "Collecting pillow>=8 (from matplotlib)\n",
      "  Downloading pillow-11.0.0-cp312-cp312-macosx_11_0_arm64.whl.metadata (9.1 kB)\n",
      "Requirement already satisfied: pyparsing>=2.3.1 in /Library/Frameworks/Python.framework/Versions/3.12/lib/python3.12/site-packages (from matplotlib) (3.1.2)\n",
      "Requirement already satisfied: python-dateutil>=2.7 in /Library/Frameworks/Python.framework/Versions/3.12/lib/python3.12/site-packages (from matplotlib) (2.9.0.post0)\n",
      "Requirement already satisfied: six>=1.5 in /Library/Frameworks/Python.framework/Versions/3.12/lib/python3.12/site-packages (from python-dateutil>=2.7->matplotlib) (1.16.0)\n",
      "Using cached matplotlib-3.9.2-cp312-cp312-macosx_11_0_arm64.whl (7.8 MB)\n",
      "Using cached contourpy-1.3.0-cp312-cp312-macosx_11_0_arm64.whl (251 kB)\n",
      "Using cached cycler-0.12.1-py3-none-any.whl (8.3 kB)\n",
      "Downloading fonttools-4.54.1-cp312-cp312-macosx_11_0_arm64.whl (2.3 MB)\n",
      "\u001b[2K   \u001b[90m━━━━━━━━━━━━━━━━━━━━━━━━━━━━━━━━━━━━━━━━\u001b[0m \u001b[32m2.3/2.3 MB\u001b[0m \u001b[31m9.0 MB/s\u001b[0m eta \u001b[36m0:00:00\u001b[0ma \u001b[36m0:00:01\u001b[0m\n",
      "\u001b[?25hUsing cached kiwisolver-1.4.7-cp312-cp312-macosx_11_0_arm64.whl (63 kB)\n",
      "Downloading pillow-11.0.0-cp312-cp312-macosx_11_0_arm64.whl (3.0 MB)\n",
      "\u001b[2K   \u001b[90m━━━━━━━━━━━━━━━━━━━━━━━━━━━━━━━━━━━━━━━━\u001b[0m \u001b[32m3.0/3.0 MB\u001b[0m \u001b[31m9.4 MB/s\u001b[0m eta \u001b[36m0:00:00\u001b[0ma \u001b[36m0:00:01\u001b[0m\n",
      "\u001b[?25hInstalling collected packages: pillow, kiwisolver, fonttools, cycler, contourpy, matplotlib\n",
      "Successfully installed contourpy-1.3.0 cycler-0.12.1 fonttools-4.54.1 kiwisolver-1.4.7 matplotlib-3.9.2 pillow-11.0.0\n",
      "\n",
      "\u001b[1m[\u001b[0m\u001b[34;49mnotice\u001b[0m\u001b[1;39;49m]\u001b[0m\u001b[39;49m A new release of pip is available: \u001b[0m\u001b[31;49m24.2\u001b[0m\u001b[39;49m -> \u001b[0m\u001b[32;49m24.3.1\u001b[0m\n",
      "\u001b[1m[\u001b[0m\u001b[34;49mnotice\u001b[0m\u001b[1;39;49m]\u001b[0m\u001b[39;49m To update, run: \u001b[0m\u001b[32;49mpip install --upgrade pip\u001b[0m\n",
      "Note: you may need to restart the kernel to use updated packages.\n"
     ]
    }
   ],
   "source": [
    "%pip install torch\n",
    "%pip install matplotlib\n",
    "import torch\n",
    "import torch.nn as nn\n",
    "import numpy as np\n",
    "import matplotlib.pyplot as plt"
   ]
  },
  {
   "cell_type": "code",
   "execution_count": null,
   "metadata": {},
   "outputs": [],
   "source": [
    "X = torch.linspace(1,50,50).reshape((-1,1))\n",
    "print(X)"
   ]
  },
  {
   "cell_type": "code",
   "execution_count": 22,
   "metadata": {},
   "outputs": [
    {
     "name": "stdout",
     "output_type": "stream",
     "text": [
      "tensor([[ 5.],\n",
      "        [12.],\n",
      "        [ 9.],\n",
      "        [15.],\n",
      "        [13.],\n",
      "        [ 9.],\n",
      "        [17.],\n",
      "        [12.],\n",
      "        [23.],\n",
      "        [22.],\n",
      "        [25.],\n",
      "        [28.],\n",
      "        [28.],\n",
      "        [21.],\n",
      "        [36.],\n",
      "        [38.],\n",
      "        [29.],\n",
      "        [37.],\n",
      "        [32.],\n",
      "        [33.],\n",
      "        [40.],\n",
      "        [44.],\n",
      "        [49.],\n",
      "        [43.],\n",
      "        [48.],\n",
      "        [56.],\n",
      "        [57.],\n",
      "        [60.],\n",
      "        [63.],\n",
      "        [66.],\n",
      "        [64.],\n",
      "        [72.],\n",
      "        [73.],\n",
      "        [68.],\n",
      "        [65.],\n",
      "        [68.],\n",
      "        [72.],\n",
      "        [84.],\n",
      "        [79.],\n",
      "        [89.],\n",
      "        [82.],\n",
      "        [83.],\n",
      "        [89.],\n",
      "        [81.],\n",
      "        [90.],\n",
      "        [99.],\n",
      "        [87.],\n",
      "        [94.],\n",
      "        [92.],\n",
      "        [99.]])\n"
     ]
    }
   ],
   "source": [
    "torch.manual_seed(71)\n",
    "e = torch.randint(-8, 9, (50,1), dtype=torch.float)\n",
    "\n",
    "y = 2*X + 1 + e\n",
    "print(y)"
   ]
  },
  {
   "cell_type": "code",
   "execution_count": 23,
   "metadata": {},
   "outputs": [
    {
     "data": {
      "text/plain": [
       "Text(0, 0.5, 'y')"
      ]
     },
     "execution_count": 23,
     "metadata": {},
     "output_type": "execute_result"
    },
    {
     "data": {
      "image/png": "[encoded data removed]",
      "text/plain": [
       "<Figure size 640x480 with 1 Axes>"
      ]
     },
     "metadata": {},
     "output_type": "display_data"
    }
   ],
   "source": [
    "plt.scatter(X.numpy(), y.numpy())\n",
    "plt.xlabel('X')\n",
    "plt.ylabel('y')"
   ]
  },
  {
   "cell_type": "code",
   "execution_count": 37,
   "metadata": {},
   "outputs": [],
   "source": [
    "class Model(nn.Module):\n",
    "\n",
    "    def __init__(self, in_features, out_features):\n",
    "        super().__init__()\n",
    "        self.linear = nn.Linear(in_features, out_features)\n",
    "    \n",
    "    def forward(self,x):\n",
    "        y_pred = self.linear(x)\n",
    "        return y_pred\n",
    "        "
   ]
  },
  {
   "cell_type": "code",
   "execution_count": 38,
   "metadata": {},
   "outputs": [
    {
     "name": "stdout",
     "output_type": "stream",
     "text": [
      "0.23604393005371094 -0.8626136779785156\n",
      "[-0.62656975 10.939583  ]\n"
     ]
    }
   ],
   "source": [
    "torch.manual_seed(50)\n",
    "model = Model(1,1)\n",
    "x1 = np.array([X.min(), X.max()])\n",
    "\n",
    "w1, b1 = model.linear.weight.item(), model.linear.bias.item()\n",
    "y1 = w1*x1 + b1\n",
    "print( w1, b1)\n",
    "print(y1)"
   ]
  },
  {
   "cell_type": "code",
   "execution_count": 39,
   "metadata": {},
   "outputs": [
    {
     "data": {
      "text/plain": [
       "Text(0, 0.5, 'y')"
      ]
     },
     "execution_count": 39,
     "metadata": {},
     "output_type": "execute_result"
    },
    {
     "data": {
      "image/png": "[encoded data removed]",
      "text/plain": [
       "<Figure size 640x480 with 1 Axes>"
      ]
     },
     "metadata": {},
     "output_type": "display_data"
    }
   ],
   "source": [
    "plt.scatter(X.numpy(), y.numpy())\n",
    "plt.plot(x1, y1, 'r')\n",
    "plt.title(\"Initial\")\n",
    "plt.xlabel('X')\n",
    "plt.ylabel('y')"
   ]
  },
  {
   "cell_type": "code",
   "execution_count": 40,
   "metadata": {},
   "outputs": [],
   "source": [
    "criterion = nn.MSELoss()\n",
    "optimizer = torch.optim.SGD(model.parameters(), lr= 0.001)\n",
    "\n"
   ]
  },
  {
   "cell_type": "code",
   "execution_count": 45,
   "metadata": {},
   "outputs": [
    {
     "name": "stdout",
     "output_type": "stream",
     "text": [
      "epoch:  1 loss: 22.98397064 wieght:  2.03453231 bias: -0.65109813\n",
      "epoch:  2 loss: 22.98159027 wieght:  2.03448629 bias: -0.64955705\n",
      "epoch:  3 loss: 22.97921562 wieght:  2.03444076 bias: -0.64801675\n",
      "epoch:  4 loss: 22.97684479 wieght:  2.03439498 bias: -0.64647722\n",
      "epoch:  5 loss: 22.97447777 wieght:  2.03434920 bias: -0.64493841\n",
      "epoch:  6 loss: 22.97210884 wieght:  2.03430343 bias: -0.64340037\n",
      "epoch:  7 loss: 22.96974373 wieght:  2.03425789 bias: -0.64186305\n",
      "epoch:  8 loss: 22.96737862 wieght:  2.03421211 bias: -0.64032650\n",
      "epoch:  9 loss: 22.96501923 wieght:  2.03416657 bias: -0.63879067\n",
      "epoch: 10 loss: 22.96266937 wieght:  2.03412104 bias: -0.63725555\n",
      "epoch: 11 loss: 22.96031189 wieght:  2.03407526 bias: -0.63572121\n",
      "epoch: 12 loss: 22.95795250 wieght:  2.03402972 bias: -0.63418758\n",
      "epoch: 13 loss: 22.95560455 wieght:  2.03398418 bias: -0.63265473\n",
      "epoch: 14 loss: 22.95326233 wieght:  2.03393865 bias: -0.63112259\n",
      "epoch: 15 loss: 22.95090866 wieght:  2.03389335 bias: -0.62959123\n",
      "epoch: 16 loss: 22.94856453 wieght:  2.03384781 bias: -0.62806058\n",
      "epoch: 17 loss: 22.94622231 wieght:  2.03380227 bias: -0.62653071\n",
      "epoch: 18 loss: 22.94388008 wieght:  2.03375697 bias: -0.62500155\n",
      "epoch: 19 loss: 22.94154358 wieght:  2.03371119 bias: -0.62347317\n",
      "epoch: 20 loss: 22.93920326 wieght:  2.03366613 bias: -0.62194550\n",
      "epoch: 21 loss: 22.93687248 wieght:  2.03362060 bias: -0.62041861\n",
      "epoch: 22 loss: 22.93454552 wieght:  2.03357553 bias: -0.61889243\n",
      "epoch: 23 loss: 22.93221664 wieght:  2.03352976 bias: -0.61736703\n",
      "epoch: 24 loss: 22.92988968 wieght:  2.03348494 bias: -0.61584228\n",
      "epoch: 25 loss: 22.92756844 wieght:  2.03343940 bias: -0.61431831\n",
      "epoch: 26 loss: 22.92524338 wieght:  2.03339410 bias: -0.61279505\n",
      "epoch: 27 loss: 22.92292404 wieght:  2.03334904 bias: -0.61127257\n",
      "epoch: 28 loss: 22.92060471 wieght:  2.03330374 bias: -0.60975081\n",
      "epoch: 29 loss: 22.91829109 wieght:  2.03325844 bias: -0.60822982\n",
      "epoch: 30 loss: 22.91597939 wieght:  2.03321338 bias: -0.60670954\n",
      "epoch: 31 loss: 22.91366959 wieght:  2.03316832 bias: -0.60518998\n",
      "epoch: 32 loss: 22.91136169 wieght:  2.03312302 bias: -0.60367119\n",
      "epoch: 33 loss: 22.90905190 wieght:  2.03307796 bias: -0.60215312\n",
      "epoch: 34 loss: 22.90674782 wieght:  2.03303289 bias: -0.60063577\n",
      "epoch: 35 loss: 22.90444756 wieght:  2.03298783 bias: -0.59911919\n",
      "epoch: 36 loss: 22.90215111 wieght:  2.03294277 bias: -0.59760332\n",
      "epoch: 37 loss: 22.89985275 wieght:  2.03289771 bias: -0.59608817\n",
      "epoch: 38 loss: 22.89755821 wieght:  2.03285265 bias: -0.59457380\n",
      "epoch: 39 loss: 22.89526367 wieght:  2.03280783 bias: -0.59306014\n",
      "epoch: 40 loss: 22.89298058 wieght:  2.03276300 bias: -0.59154719\n",
      "epoch: 41 loss: 22.89069176 wieght:  2.03271770 bias: -0.59003502\n",
      "epoch: 42 loss: 22.88840294 wieght:  2.03267312 bias: -0.58852357\n",
      "epoch: 43 loss: 22.88611603 wieght:  2.03262806 bias: -0.58701283\n",
      "epoch: 44 loss: 22.88384056 wieght:  2.03258324 bias: -0.58550280\n",
      "epoch: 45 loss: 22.88155746 wieght:  2.03253841 bias: -0.58399355\n",
      "epoch: 46 loss: 22.87928200 wieght:  2.03249359 bias: -0.58248502\n",
      "epoch: 47 loss: 22.87700272 wieght:  2.03244877 bias: -0.58097720\n",
      "epoch: 48 loss: 22.87473297 wieght:  2.03240418 bias: -0.57947016\n",
      "epoch: 49 loss: 22.87246513 wieght:  2.03235912 bias: -0.57796383\n",
      "epoch: 50 loss: 22.87019348 wieght:  2.03231478 bias: -0.57645822\n"
     ]
    }
   ],
   "source": [
    "epoch = 50\n",
    "losses = []\n",
    "# print(y)\n",
    "for i in range(epoch):\n",
    "    i +=1\n",
    "    y_pred = model.forward(X)\n",
    "    loss = criterion(y_pred, y)\n",
    "    losses.append(loss)\n",
    "    print(f\"epoch: {i:2} loss: {loss:10.8f} wieght: {model.linear.weight.item(): 10.8f} bias: {model.linear.bias.item(): 10.8f}\")\n",
    "    optimizer.zero_grad()\n",
    "    loss.backward()\n",
    "    optimizer.step()"
   ]
  },
  {
   "cell_type": "code",
   "execution_count": 48,
   "metadata": {},
   "outputs": [
    {
     "name": "stdout",
     "output_type": "stream",
     "text": [
      "[ 1. 50.] [  1.4573164 101.038536 ]\n"
     ]
    },
    {
     "data": {
      "text/plain": [
       "Text(0, 0.5, 'y')"
      ]
     },
     "execution_count": 48,
     "metadata": {},
     "output_type": "execute_result"
    },
    {
     "data": {
      "image/png": "[encoded data removed]",
      "text/plain": [
       "<Figure size 640x480 with 1 Axes>"
      ]
     },
     "metadata": {},
     "output_type": "display_data"
    }
   ],
   "source": [
    "w1 , b1 = model.linear.weight.item(), model.linear.bias.item()\n",
    "y1 = w1*x1 + b1\n",
    "print(x1, y1)\n",
    "\n",
    "plt.scatter(X.numpy(), y.numpy())\n",
    "plt.plot(x1, y1, 'r')\n",
    "plt.title(\"Current Model\")\n",
    "plt.xlabel(\"X\")\n",
    "plt.ylabel(\"y\")"
   ]
  }
 ],
 "metadata": {
  "kernelspec": {
   "display_name": "Python 3",
   "language": "python",
   "name": "python3"
  },
  "language_info": {
   "codemirror_mode": {
    "name": "ipython",
    "version": 3
   },
   "file_extension": ".py",
   "mimetype": "text/x-python",
   "name": "python",
   "nbconvert_exporter": "python",
   "pygments_lexer": "ipython3",
   "version": "3.12.2"
  }
 },
 "nbformat": 4,
 "nbformat_minor": 2
}
